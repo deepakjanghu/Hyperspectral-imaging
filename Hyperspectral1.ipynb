{
 "cells": [
  {
   "cell_type": "code",
   "execution_count": 1,
   "metadata": {},
   "outputs": [],
   "source": [
    "import copy\n",
    "import numpy as np\n",
    "import matplotlib.pyplot as plt\n",
    "import scipy.io as sio"
   ]
  },
  {
   "cell_type": "code",
   "execution_count": 4,
   "metadata": {},
   "outputs": [
    {
     "data": {
      "image/png": "[encoded data removed]",
      "text/plain": [
       "<Figure size 432x288 with 1 Axes>"
      ]
     },
     "metadata": {},
     "output_type": "display_data"
    }
   ],
   "source": [
    "gtindian_dist = sio.loadmat(\"indianpines_disjoint_dset.mat\")['indianpines_disjoint_dset']\n",
    "y_test = sio.loadmat(\"indian_pines_gt.mat\")['indian_pines_gt']\n",
    "y_train3 = sio.loadmat(\"indianpines_disjoint_dset.mat\")['indianpines_disjoint_dset']\n",
    "y_test = y_test.astype(\"uint8\")\n",
    "\n",
    "changes = [0,2,3,5,6,8,10,11,12,14,1,4,7,9,13,15,16]\n",
    "y_train = copy.deepcopy(y_train3)                         #Deep Copy\n",
    "\n",
    "for j,v in enumerate(changes): y_train[y_train2==i] = v\n",
    "\n",
    "y_test[y_train!=0] = 0\n",
    "\n",
    "\n",
    "plt.imshow(y_train, cmap=\"gist_ncar_r\", vmin=0)\n",
    "plt.imshow(y_test, cmap=\"gist_ncar_r\", vmin=0, alpha=0.35)\n",
    "plt.show()"
   ]
  },
  {
   "cell_type": "code",
   "execution_count": null,
   "metadata": {},
   "outputs": [],
   "source": []
  }
 ],
 "metadata": {
  "kernelspec": {
   "display_name": "Python 3",
   "language": "python",
   "name": "python3"
  },
  "language_info": {
   "codemirror_mode": {
    "name": "ipython",
    "version": 3
   },
   "file_extension": ".py",
   "mimetype": "text/x-python",
   "name": "python",
   "nbconvert_exporter": "python",
   "pygments_lexer": "ipython3",
   "version": "3.6.5"
  }
 },
 "nbformat": 4,
 "nbformat_minor": 2
}
